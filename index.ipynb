{
 "cells": [
  {
   "cell_type": "markdown",
   "metadata": {},
   "source": [
    "# Multiple response question builder\n",
    "\n",
    "The steps below will take a data file containing a series of questions and produce a QML file, or files that can then be uploaded to QMP. Where any text is included, this should be formatted as HTML. \n",
    "\n",
    "The principle behind these QMP questions is that the options are treated as a block of yes/no answers, with socres given for appropriate selection/non selection. A bonus mark is given for getting the correct pattern of answers (ie ticking all the correct, and not ticking any of the incorrect.) This allows a distinction between the excellent and merely lucky. The 'random score' that would be obtained is thus much lower.\n",
    "\n",
    "Including diagrams in your responses and/or question prompts is technically more challenging. Ask David for help with this.\n",
    "\n",
    "## Data input\n",
    "Data should be provided as a tab separated text file. An example can be found here.\n",
    "The first line should contain the topic name (i.e. _CLS BS12001/Gene Expression_)The questions are included on subsequent lines. The first column is the question ID. The second column is the question prompt. The third column is the question feedback. All subsequent columns are possible answers, prefixed with a F for incorrect or a T for correct. \n",
    "\n",
    "### Question format options\n",
    "* **Number of responses** If you select a fixed number of responses then all permutations with this number of responses will be generated, ie if you give 6 responses and set number of responses to 5, then 6 questions will be generated omitting respectively responses 1 through 6. Setting this to zero will produce one question with all the suggested responses _Default is 5 responses_\n",
    "* **Require at least one positive** Setting this to a non-zero value will ensure that every question has at least one true answer. If no positive responses are available in the response list then no questions will be generated.\n",
    "* **Require at least one negative** Setting this to a non-zero value will ensure that every question has at least one false answer. If no negative responses are available in the response list then no questions will be generated.\n",
    "* **Multiple file output** Generate a new QML file for each question set. Ie, all permutations of the first question will be saved in one file, all permutations of the second question in a second file and so on. This is helpful for building randomised questions in QMP, though using subtopics is probably better\n",
    "* **Use subtopics** Each question will be saved to a separate topic within the main topic directory. This will probably raise a prompt to create these subdirectories when importing the QML files.\n",
    "* **Scoring method** Set this to -1 to set the bonus (all correct) to the number of options presented -1, set it to 0 or any positive number to use that number as a fixed bonus.\n",
    "\n",
    "## How to process your data\n",
    "2. Set the filenames for your data file and output file.\n",
    "3. Upload your input data via the upload option in the other tab with the directory listing.\n",
    "1. Set the format options in the box below and press CTRL-Enter to run the question generator\n",
    "4. In Authoring Manager, use _Manage Items > Import > From QML_ to import your questions.\n",
    "\n"
   ]
  },
  {
   "cell_type": "code",
   "execution_count": null,
   "metadata": {
    "collapsed": false
   },
   "outputs": [],
   "source": [
    "import sys\n",
    "sys.path.append('.')\n",
    "import QML\n",
    "\n",
    "NUMBER_OF_RESPONSES = 5 # set this to a fixed number or 0 to use all options. \n",
    "POSITIVE_REQUIRED = 0 # set this to 1 to require a positive response in each question\n",
    "NEGATIVE_REQUIRED = 1 # set this to 1 to require a negative resposne in each question\n",
    "MULTIPLE_FILES = 0 # set this to 1 to produce a file for each question\n",
    "USE_SUBTOPICS = 1 # set this to 1 to generate a subtopic for each question set, 0 to have all questions in the same topic.\n",
    "SCORING = -1 # set a fixed value for the bonus, or -1 for the number of responses - 1\n",
    "\n",
    "INPUTFILE = \"example.txt\" # your filename must be spelled correctly and be between quotes. \n",
    "OUTPUTFILE = \"questions\" # The .qml will be added. For multiple file output, this is the name of the directory into which\n",
    "                         # which files will be saved. It will be created if it doesn't exist\n",
    "    \n",
    "## Do not change anything below this line.\n",
    "QML.buildQuestions(INPUTFILE, OUTPUTFILE, NUMBER_OF_RESPONSES, POSITIVE_REQUIRED, NEGATIVE_REQUIRED, \n",
    "                   MULTIPLE_FILES, USE_SUBTOPICS, SCORING)\n",
    "\n",
    "# Now press CTRL-Enter to run this cell."
   ]
  },
  {
   "cell_type": "code",
   "execution_count": null,
   "metadata": {
    "collapsed": false
   },
   "outputs": [],
   "source": [
    "import sys\n",
    "\n",
    "for d in sys.path:\n",
    "    print(d)\n",
    "sys.path.append('.')\n",
    "import QML\n"
   ]
  }
 ],
 "metadata": {
  "kernelspec": {
   "display_name": "Python 3",
   "language": "python",
   "name": "python3"
  },
  "language_info": {
   "codemirror_mode": {
    "name": "ipython",
    "version": 3
   },
   "file_extension": ".py",
   "mimetype": "text/x-python",
   "name": "python",
   "nbconvert_exporter": "python",
   "pygments_lexer": "ipython3",
   "version": "3.5.1"
  }
 },
 "nbformat": 4,
 "nbformat_minor": 0
}
